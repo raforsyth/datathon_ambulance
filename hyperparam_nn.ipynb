{
 "cells": [
  {
   "cell_type": "code",
   "execution_count": 3,
   "metadata": {},
   "outputs": [],
   "source": [
    "import os\n",
    "import copy\n",
    "import matplotlib.pyplot as plt\n",
    "import numpy as np\n",
    "import pandas as pd\n",
    "import torch\n",
    "import torch.nn as nn\n",
    "import torch.optim as optim\n",
    "import tqdm\n",
    "from sklearn.model_selection import train_test_split\n",
    "from sklearn.datasets import fetch_california_housing\n",
    "from sklearn.preprocessing import StandardScaler\n",
    "import torch.nn.init as init\n",
    "import torch.optim as optim\n",
    "from skorch import NeuralNetClassifier\n",
    "from sklearn.model_selection import GridSearchCV"
   ]
  },
  {
   "cell_type": "code",
   "execution_count": 4,
   "metadata": {},
   "outputs": [
    {
     "name": "stdout",
     "output_type": "stream",
     "text": [
      "/Users/gautam/Downloads/KU_Leuven_Bioinformatics_Masters/datathon_ambulance/final_rawcounts_merged.csv\n"
     ]
    }
   ],
   "source": [
    "data_path = os.path.join(os.getcwd(), \"final_rawcounts_merged.csv\")\n",
    "print(data_path)\n",
    "\n",
    "# Read data\n",
    "data = pd.read_csv(data_path)\n",
    "#data = data.iloc[:, 1:8]\n",
    "#data = data.iloc[:, data.columns != 'municipality']\n",
    "data['y'] = data['DOA_cardiac_count'] / data['population']\n",
    "data['DOA_all_norm'] = data['DOA_all_count'] / data['population']\n",
    "data['aed_count'] = data['aed_count'] / data['population']\n",
    "\n",
    "#X = data.drop(columns = ['postal_code', 'DOA_cardiac'])\n",
    "#y = data['DOA_cardiac']\n",
    "X = data.iloc[:, [2, 3, 6, 7, 9, 10]].drop(columns = ['y'])\n",
    "y = data['y']"
   ]
  },
  {
   "cell_type": "code",
   "execution_count": null,
   "metadata": {},
   "outputs": [],
   "source": [
    "class AEDRegressor(nn.Module):\n",
    "    def __init__(self):\n",
    "        super().__init__()\n",
    "        self.layer = nn.Linear(5, 3)\n",
    "        self.act = nn.ReLU()\n",
    "        self.output = nn.Linear(3, 1)\n",
    " \n",
    "    def forward(self, x):\n",
    "        x = self.act(self.layer(x))\n",
    "        x = self.output(x)\n",
    "        return x"
   ]
  }
 ],
 "metadata": {
  "kernelspec": {
   "display_name": "pytorch_env",
   "language": "python",
   "name": "python3"
  },
  "language_info": {
   "codemirror_mode": {
    "name": "ipython",
    "version": 3
   },
   "file_extension": ".py",
   "mimetype": "text/x-python",
   "name": "python",
   "nbconvert_exporter": "python",
   "pygments_lexer": "ipython3",
   "version": "3.11.6"
  },
  "orig_nbformat": 4,
  "vscode": {
   "interpreter": {
    "hash": "e8d4b76bf36a3b7f9141fb8d2af17f344d315cd075e70bee8bce85b39a046109"
   }
  }
 },
 "nbformat": 4,
 "nbformat_minor": 2
}
