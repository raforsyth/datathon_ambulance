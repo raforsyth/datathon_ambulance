{
 "cells": [
  {
   "cell_type": "code",
   "execution_count": 152,
   "metadata": {},
   "outputs": [],
   "source": [
    "import os\n",
    "import copy\n",
    "import matplotlib.pyplot as plt\n",
    "import numpy as np\n",
    "import pandas as pd\n",
    "import torch\n",
    "import torch.nn as nn\n",
    "import torch.optim as optim\n",
    "import tqdm\n",
    "from sklearn.model_selection import train_test_split\n",
    "from sklearn.datasets import fetch_california_housing\n",
    "from sklearn.preprocessing import StandardScaler\n",
    "from sklearn.decomposition import PCA"
   ]
  },
  {
   "cell_type": "code",
   "execution_count": 69,
   "metadata": {},
   "outputs": [
    {
     "name": "stdout",
     "output_type": "stream",
     "text": [
      "/Users/gautam/Downloads/KU_Leuven_Bioinformatics_Masters/datathon_ambulance/final_rawcounts_merged.csv\n"
     ]
    }
   ],
   "source": [
    "data_path = os.path.join(os.getcwd(), \"final_rawcounts_merged.csv\")\n",
    "print(data_path)"
   ]
  },
  {
   "cell_type": "code",
   "execution_count": 153,
   "metadata": {},
   "outputs": [],
   "source": [
    "# Read data\n",
    "data = pd.read_csv(data_path)\n",
    "#data = data.iloc[:, 1:8]\n",
    "#data = data.iloc[:, data.columns != 'municipality']\n",
    "data['y'] = data['DOA_cardiac_count'] / data['population']\n",
    "data['DOA_all_norm'] = data['DOA_all_count'] / data['population']\n",
    "data['aed_count'] = data['aed_count'] / data['population']\n",
    "\n",
    "#X = data.drop(columns = ['postal_code', 'DOA_cardiac'])\n",
    "#y = data['DOA_cardiac']\n",
    "X = data.iloc[:, [2, 3, 6, 7, 9, 10]].drop(columns = ['y'])\n",
    "y = data['y']"
   ]
  },
  {
   "cell_type": "code",
   "execution_count": 156,
   "metadata": {},
   "outputs": [
    {
     "name": "stdout",
     "output_type": "stream",
     "text": [
      "[8.22430978e-01 1.59434475e-01 1.81345475e-02 1.77684441e-13]\n",
      "[[-1.16942083e-01  2.78230086e-01  9.53369062e-01  9.50269700e-08]\n",
      " [ 9.92999852e-01  4.88106157e-02  1.07558440e-01  1.66780234e-07]\n",
      " [-1.66085368e-02  9.59273445e-01 -2.81990450e-01 -4.31742744e-07]\n",
      " [-1.61670711e-07  3.79579341e-07 -2.30281725e-07  1.00000000e+00]]\n"
     ]
    }
   ],
   "source": [
    "data_pca = PCA(n_components=4)\n",
    "data_pca.fit(X.iloc[:, [0, 1, 2, 3]])\n",
    "print(data_pca.explained_variance_ratio_)\n",
    "print(data_pca.components_)"
   ]
  },
  {
   "cell_type": "code",
   "execution_count": 146,
   "metadata": {},
   "outputs": [],
   "source": [
    "# train-test split for model evaluation\n",
    "X_train_raw, X_test_raw, y_train_raw, y_test_raw = train_test_split(X, y, train_size=0.7, shuffle=True)\n",
    " \n",
    "# Standardizing data\n",
    "scaler = StandardScaler()\n",
    "scaler.fit(X_train_raw)\n",
    "X_train = scaler.transform(X_train_raw)\n",
    "X_test = scaler.transform(X_test_raw)\n",
    "scaler2 = StandardScaler()\n",
    "scaler2.fit(pd.DataFrame(y_train_raw))\n",
    "y_train = scaler2.transform(pd.DataFrame(y_train_raw))\n",
    "y_test = scaler2.transform(pd.DataFrame(y_test_raw))"
   ]
  },
  {
   "cell_type": "code",
   "execution_count": 147,
   "metadata": {},
   "outputs": [],
   "source": [
    "# Convert to 2D PyTorch tensors\n",
    "X_train = torch.tensor(X_train, dtype=torch.float32)\n",
    "y_train = torch.tensor(y_train, dtype=torch.float32).reshape(-1, 1)\n",
    "X_test = torch.tensor(X_test, dtype=torch.float32)\n",
    "y_test = torch.tensor(y_test, dtype=torch.float32).reshape(-1, 1)"
   ]
  },
  {
   "cell_type": "code",
   "execution_count": 148,
   "metadata": {},
   "outputs": [],
   "source": [
    "# Define the model\n",
    "model = nn.Sequential(\n",
    "    nn.Linear(5, 12), # 5 input variables\n",
    "    nn.ReLU(),\n",
    "    nn.Linear(12, 6),\n",
    "    nn.ReLU(),\n",
    "    nn.Linear(6, 1) # 1 output (regression)\n",
    ")\n",
    "\n",
    "# loss function and optimizer\n",
    "loss_fn = nn.MSELoss()  # mean square error\n",
    "optimizer = optim.Adam(model.parameters(), lr=0.0001)\n",
    "\n",
    "batch_size = 10  # size of each batch\n",
    "n_epochs = int(np.ceil(X_train.shape[0] / 10))\n",
    "batch_start = torch.arange(0, len(X_train), batch_size)\n",
    "\n",
    "# Hold the best model\n",
    "best_mse = np.inf   # init to infinity\n",
    "best_weights = None\n",
    "history = []"
   ]
  },
  {
   "cell_type": "code",
   "execution_count": 149,
   "metadata": {},
   "outputs": [
    {
     "data": {
      "text/plain": [
       "21"
      ]
     },
     "execution_count": 149,
     "metadata": {},
     "output_type": "execute_result"
    }
   ],
   "source": [
    "n_epochs"
   ]
  },
  {
   "cell_type": "code",
   "execution_count": 150,
   "metadata": {},
   "outputs": [],
   "source": [
    "# Train model\n",
    "for epoch in range(n_epochs):\n",
    "    model.train()\n",
    "    # This next part is just for showing a progress meter; not super important\n",
    "    with tqdm.tqdm(batch_start, unit=\"batch\", mininterval=0, disable=True) as bar:\n",
    "        bar.set_description(f\"Epoch {epoch}\")\n",
    "        for start in bar:\n",
    "            # take a batch\n",
    "            X_batch = X_train[start:start+batch_size]\n",
    "            y_batch = y_train[start:start+batch_size]\n",
    "            # forward pass\n",
    "            y_pred = model(X_batch)\n",
    "            loss = loss_fn(y_pred, y_batch)\n",
    "            # backward pass\n",
    "            optimizer.zero_grad()\n",
    "            loss.backward()\n",
    "            # update weights\n",
    "            optimizer.step()\n",
    "            # print progress\n",
    "            bar.set_postfix(mse=float(loss))\n",
    "    # evaluate accuracy at end of each epoch\n",
    "    model.eval()\n",
    "    y_pred = model(X_test)\n",
    "    mse = loss_fn(y_pred, y_test)\n",
    "    mse = float(mse)\n",
    "    history.append(mse)\n",
    "    if mse < best_mse:\n",
    "        best_mse = mse\n",
    "        best_weights = copy.deepcopy(model.state_dict())"
   ]
  },
  {
   "cell_type": "code",
   "execution_count": 151,
   "metadata": {},
   "outputs": [
    {
     "name": "stdout",
     "output_type": "stream",
     "text": [
      "MSE: 2.7562825679779053\n",
      "RMSE: 1.6602055800345648\n"
     ]
    },
    {
     "data": {
      "image/png": "[encoded data removed]",
      "text/plain": [
       "<Figure size 640x480 with 1 Axes>"
      ]
     },
     "metadata": {},
     "output_type": "display_data"
    },
    {
     "data": {
      "text/plain": [
       "Sequential(\n",
       "  (0): Linear(in_features=5, out_features=12, bias=True)\n",
       "  (1): ReLU()\n",
       "  (2): Linear(in_features=12, out_features=6, bias=True)\n",
       "  (3): ReLU()\n",
       "  (4): Linear(in_features=6, out_features=1, bias=True)\n",
       ")"
      ]
     },
     "execution_count": 151,
     "metadata": {},
     "output_type": "execute_result"
    }
   ],
   "source": [
    "# restore model and return best accuracy\n",
    "model.load_state_dict(best_weights)\n",
    "print(\"MSE:\", best_mse)\n",
    "print(\"RMSE:\", np.sqrt(best_mse))\n",
    "plt.plot(history)\n",
    "plt.show()\n",
    "\n",
    "model.eval()\n",
    "# with torch.no_grad():\n",
    "#     # Test out inference with 5 samples from the original test set\n",
    "#     for i in range(5):\n",
    "#         X_sample = X_test_raw[i: i+1]\n",
    "#         X_sample = scaler.transform(X_sample)\n",
    "#         X_sample = torch.tensor(X_sample, dtype=torch.float32)\n",
    "#         y_pred = model(X_sample)\n",
    "#         print(f\"{X_test_raw[i]} -> {y_pred[0].numpy()} (expected {y_test[i].numpy()})\")"
   ]
  },
  {
   "cell_type": "code",
   "execution_count": 125,
   "metadata": {},
   "outputs": [],
   "source": [
    "test_scaled = scaler.transform(X_test_raw)\n",
    "test_scaled = torch.tensor(test_scaled, dtype=torch.float32)\n",
    "y_pred = model(test_scaled)"
   ]
  },
  {
   "cell_type": "code",
   "execution_count": 127,
   "metadata": {},
   "outputs": [
    {
     "ename": "ValueError",
     "evalue": "non-broadcastable output operand with shape (90,1) doesn't match the broadcast shape (90,5)",
     "output_type": "error",
     "traceback": [
      "\u001b[0;31m---------------------------------------------------------------------------\u001b[0m",
      "\u001b[0;31mValueError\u001b[0m                                Traceback (most recent call last)",
      "Cell \u001b[0;32mIn[127], line 1\u001b[0m\n\u001b[0;32m----> 1\u001b[0m scaler\u001b[39m.\u001b[39;49minverse_transform(y_pred\u001b[39m.\u001b[39;49mdetach()\u001b[39m.\u001b[39;49mnumpy())\n",
      "File \u001b[0;32m~/miniconda3/envs/pytorch_env/lib/python3.11/site-packages/sklearn/preprocessing/_data.py:1103\u001b[0m, in \u001b[0;36mStandardScaler.inverse_transform\u001b[0;34m(self, X, copy)\u001b[0m\n\u001b[1;32m   1101\u001b[0m \u001b[39melse\u001b[39;00m:\n\u001b[1;32m   1102\u001b[0m     \u001b[39mif\u001b[39;00m \u001b[39mself\u001b[39m\u001b[39m.\u001b[39mwith_std:\n\u001b[0;32m-> 1103\u001b[0m         X \u001b[39m*\u001b[39;49m\u001b[39m=\u001b[39;49m \u001b[39mself\u001b[39;49m\u001b[39m.\u001b[39;49mscale_\n\u001b[1;32m   1104\u001b[0m     \u001b[39mif\u001b[39;00m \u001b[39mself\u001b[39m\u001b[39m.\u001b[39mwith_mean:\n\u001b[1;32m   1105\u001b[0m         X \u001b[39m+\u001b[39m\u001b[39m=\u001b[39m \u001b[39mself\u001b[39m\u001b[39m.\u001b[39mmean_\n",
      "\u001b[0;31mValueError\u001b[0m: non-broadcastable output operand with shape (90,1) doesn't match the broadcast shape (90,5)"
     ]
    }
   ],
   "source": [
    "scaler.inverse_transform(y_pred.detach().numpy())"
   ]
  },
  {
   "cell_type": "code",
   "execution_count": null,
   "metadata": {},
   "outputs": [],
   "source": [
    "def score_trained_model(params, args):\n",
    "    # Get the model from the fixed args.\n",
    "    model = args[0]\n",
    "\n",
    "    # Run the model on the params, return the output.\n",
    "    return model_predict(model, params)"
   ]
  },
  {
   "cell_type": "code",
   "execution_count": null,
   "metadata": {},
   "outputs": [],
   "source": [
    "# Nelder-Mead is my go-to to start with.\n",
    "# But it doesn't take advantage of the gradient.\n",
    "# Something that does, e.g. BGFS, may perform better for your case.\n",
    "method = 'Nelder-Mead'\n",
    "\n",
    "# All zeros is fine, but improving this initial guess can help.\n",
    "guess_params = [0]*4\n",
    "\n",
    "# Given a trained model, optimize the inputs to minimize the output.\n",
    "optim_params = scipy.optimize.minimize(\n",
    "    score_trained_model,\n",
    "    guess_params,\n",
    "    args=(trained_model,),\n",
    "    method=method,\n",
    ")"
   ]
  }
 ],
 "metadata": {
  "kernelspec": {
   "display_name": "pytorch_env",
   "language": "python",
   "name": "python3"
  },
  "language_info": {
   "codemirror_mode": {
    "name": "ipython",
    "version": 3
   },
   "file_extension": ".py",
   "mimetype": "text/x-python",
   "name": "python",
   "nbconvert_exporter": "python",
   "pygments_lexer": "ipython3",
   "version": "3.11.6"
  },
  "orig_nbformat": 4,
  "vscode": {
   "interpreter": {
    "hash": "e8d4b76bf36a3b7f9141fb8d2af17f344d315cd075e70bee8bce85b39a046109"
   }
  }
 },
 "nbformat": 4,
 "nbformat_minor": 2
}
