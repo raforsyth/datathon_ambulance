{
 "cells": [
  {
   "cell_type": "code",
   "execution_count": 221,
   "metadata": {},
   "outputs": [],
   "source": [
    "import os\n",
    "import copy\n",
    "import matplotlib.pyplot as plt\n",
    "import numpy as np\n",
    "import pandas as pd\n",
    "import torch\n",
    "import torch.nn as nn\n",
    "import torch.optim as optim\n",
    "import tqdm\n",
    "from sklearn.model_selection import train_test_split\n",
    "from sklearn.datasets import fetch_california_housing\n",
    "from sklearn.preprocessing import StandardScaler\n",
    "from sklearn.preprocessing import MinMaxScaler\n",
    "from sklearn.decomposition import PCA"
   ]
  },
  {
   "cell_type": "code",
   "execution_count": 162,
   "metadata": {},
   "outputs": [
    {
     "name": "stdout",
     "output_type": "stream",
     "text": [
      "/Users/gautam/Downloads/KU_Leuven_Bioinformatics_Masters/datathon_ambulance/final_rawcounts_merged.csv\n"
     ]
    }
   ],
   "source": [
    "data_path = os.path.join(os.getcwd(), \"final_rawcounts_merged.csv\")\n",
    "print(data_path)"
   ]
  },
  {
   "cell_type": "code",
   "execution_count": 231,
   "metadata": {},
   "outputs": [],
   "source": [
    "# Read data\n",
    "data = pd.read_csv(data_path)\n",
    "#data = data.iloc[:, 1:8]\n",
    "#data = data.iloc[:, data.columns != 'municipality']\n",
    "# data['y'] = data['DOA_cardiac_count'] / data['population']\n",
    "data['DOA_all_count'] = data['DOA_all_count'] / data['population']\n",
    "data['aed_count'] = data['aed_count'] / data['population']\n",
    "data['cardiac_intervention_count'] = data['cardiac_intervention_count'] / data['interventions_count']\n",
    "data['interventions_count'] = data['interventions_count'] / data['population']\n",
    "data['DOA_cardiac_count'] = data['DOA_cardiac_count'] / data['population']\n",
    "\n",
    "#X = data.drop(columns = ['postal_code', 'DOA_cardiac'])\n",
    "#y = data['DOA_cardiac']\n",
    "X = data.iloc[:, [2, 3, 5, 6, 7]]\n",
    "y = data.iloc[:, 4]"
   ]
  },
  {
   "cell_type": "code",
   "execution_count": 233,
   "metadata": {},
   "outputs": [
    {
     "data": {
      "text/html": [
       "<div>\n",
       "<style scoped>\n",
       "    .dataframe tbody tr th:only-of-type {\n",
       "        vertical-align: middle;\n",
       "    }\n",
       "\n",
       "    .dataframe tbody tr th {\n",
       "        vertical-align: top;\n",
       "    }\n",
       "\n",
       "    .dataframe thead th {\n",
       "        text-align: right;\n",
       "    }\n",
       "</style>\n",
       "<table border=\"1\" class=\"dataframe\">\n",
       "  <thead>\n",
       "    <tr style=\"text-align: right;\">\n",
       "      <th></th>\n",
       "      <th>avg_intervention_time</th>\n",
       "      <th>cardiac_intervention_count</th>\n",
       "      <th>DOA_all_count</th>\n",
       "      <th>interventions_count</th>\n",
       "      <th>aed_count</th>\n",
       "    </tr>\n",
       "  </thead>\n",
       "  <tbody>\n",
       "    <tr>\n",
       "      <th>0</th>\n",
       "      <td>219.142107</td>\n",
       "      <td>0.238092</td>\n",
       "      <td>0.000900</td>\n",
       "      <td>0.164231</td>\n",
       "      <td>0.006254</td>\n",
       "    </tr>\n",
       "    <tr>\n",
       "      <th>1</th>\n",
       "      <td>305.541667</td>\n",
       "      <td>0.000000</td>\n",
       "      <td>0.000000</td>\n",
       "      <td>0.000010</td>\n",
       "      <td>0.000000</td>\n",
       "    </tr>\n",
       "    <tr>\n",
       "      <th>2</th>\n",
       "      <td>67.550000</td>\n",
       "      <td>0.000000</td>\n",
       "      <td>0.000000</td>\n",
       "      <td>0.000005</td>\n",
       "      <td>0.000000</td>\n",
       "    </tr>\n",
       "    <tr>\n",
       "      <th>3</th>\n",
       "      <td>271.019105</td>\n",
       "      <td>0.271499</td>\n",
       "      <td>0.000185</td>\n",
       "      <td>0.033517</td>\n",
       "      <td>0.000242</td>\n",
       "    </tr>\n",
       "    <tr>\n",
       "      <th>4</th>\n",
       "      <td>206.805989</td>\n",
       "      <td>0.281693</td>\n",
       "      <td>0.000658</td>\n",
       "      <td>0.083663</td>\n",
       "      <td>0.000612</td>\n",
       "    </tr>\n",
       "    <tr>\n",
       "      <th>...</th>\n",
       "      <td>...</td>\n",
       "      <td>...</td>\n",
       "      <td>...</td>\n",
       "      <td>...</td>\n",
       "      <td>...</td>\n",
       "    </tr>\n",
       "    <tr>\n",
       "      <th>312</th>\n",
       "      <td>1219.000000</td>\n",
       "      <td>0.000000</td>\n",
       "      <td>0.000000</td>\n",
       "      <td>0.000011</td>\n",
       "      <td>0.000278</td>\n",
       "    </tr>\n",
       "    <tr>\n",
       "      <th>313</th>\n",
       "      <td>1233.000000</td>\n",
       "      <td>0.000000</td>\n",
       "      <td>0.000000</td>\n",
       "      <td>0.000191</td>\n",
       "      <td>0.000572</td>\n",
       "    </tr>\n",
       "    <tr>\n",
       "      <th>314</th>\n",
       "      <td>2589.520548</td>\n",
       "      <td>0.904110</td>\n",
       "      <td>0.000115</td>\n",
       "      <td>0.004205</td>\n",
       "      <td>0.000518</td>\n",
       "    </tr>\n",
       "    <tr>\n",
       "      <th>315</th>\n",
       "      <td>1298.536878</td>\n",
       "      <td>0.910806</td>\n",
       "      <td>0.000886</td>\n",
       "      <td>0.021533</td>\n",
       "      <td>0.000923</td>\n",
       "    </tr>\n",
       "    <tr>\n",
       "      <th>316</th>\n",
       "      <td>1544.500000</td>\n",
       "      <td>0.750000</td>\n",
       "      <td>0.000000</td>\n",
       "      <td>0.000246</td>\n",
       "      <td>0.001108</td>\n",
       "    </tr>\n",
       "  </tbody>\n",
       "</table>\n",
       "<p>317 rows × 5 columns</p>\n",
       "</div>"
      ],
      "text/plain": [
       "     avg_intervention_time  cardiac_intervention_count  DOA_all_count  \\\n",
       "0               219.142107                    0.238092       0.000900   \n",
       "1               305.541667                    0.000000       0.000000   \n",
       "2                67.550000                    0.000000       0.000000   \n",
       "3               271.019105                    0.271499       0.000185   \n",
       "4               206.805989                    0.281693       0.000658   \n",
       "..                     ...                         ...            ...   \n",
       "312            1219.000000                    0.000000       0.000000   \n",
       "313            1233.000000                    0.000000       0.000000   \n",
       "314            2589.520548                    0.904110       0.000115   \n",
       "315            1298.536878                    0.910806       0.000886   \n",
       "316            1544.500000                    0.750000       0.000000   \n",
       "\n",
       "     interventions_count  aed_count  \n",
       "0               0.164231   0.006254  \n",
       "1               0.000010   0.000000  \n",
       "2               0.000005   0.000000  \n",
       "3               0.033517   0.000242  \n",
       "4               0.083663   0.000612  \n",
       "..                   ...        ...  \n",
       "312             0.000011   0.000278  \n",
       "313             0.000191   0.000572  \n",
       "314             0.004205   0.000518  \n",
       "315             0.021533   0.000923  \n",
       "316             0.000246   0.001108  \n",
       "\n",
       "[317 rows x 5 columns]"
      ]
     },
     "execution_count": 233,
     "metadata": {},
     "output_type": "execute_result"
    }
   ],
   "source": [
    "X"
   ]
  },
  {
   "cell_type": "code",
   "execution_count": 156,
   "metadata": {},
   "outputs": [
    {
     "name": "stdout",
     "output_type": "stream",
     "text": [
      "[8.22430978e-01 1.59434475e-01 1.81345475e-02 1.77684441e-13]\n",
      "[[-1.16942083e-01  2.78230086e-01  9.53369062e-01  9.50269700e-08]\n",
      " [ 9.92999852e-01  4.88106157e-02  1.07558440e-01  1.66780234e-07]\n",
      " [-1.66085368e-02  9.59273445e-01 -2.81990450e-01 -4.31742744e-07]\n",
      " [-1.61670711e-07  3.79579341e-07 -2.30281725e-07  1.00000000e+00]]\n"
     ]
    }
   ],
   "source": [
    "data_pca = PCA(n_components=4)\n",
    "data_pca.fit(X.iloc[:, [0, 1, 2, 3]])\n",
    "print(data_pca.explained_variance_ratio_)\n",
    "print(data_pca.components_)"
   ]
  },
  {
   "cell_type": "code",
   "execution_count": 238,
   "metadata": {},
   "outputs": [],
   "source": [
    "# train-test split for model evaluation\n",
    "X_train_raw, X_test_raw, y_train_raw, y_test_raw = train_test_split(X, y, train_size=0.7, shuffle=True)\n",
    " \n",
    "# Standardizing data\n",
    "scaler = MinMaxScaler()\n",
    "scaler.fit(pd.DataFrame(X_train_raw['avg_intervention_time']))\n",
    "X_train = copy.deepcopy(X_train_raw).drop(columns = 'avg_intervention_time')\n",
    "X_train['avg_intervention_time'] = scaler.transform(pd.DataFrame(X_train_raw['avg_intervention_time']))\n",
    "X_test = copy.deepcopy(X_test_raw).drop(columns = 'avg_intervention_time')\n",
    "X_test['avg_intervention_time'] = scaler.transform(pd.DataFrame(X_test_raw['avg_intervention_time']))\n",
    "# scaler2 = StandardScaler()\n",
    "# scaler2.fit(pd.DataFrame(y_train_raw))\n",
    "# y_train = scaler2.transform(pd.DataFrame(y_train_raw))\n",
    "# y_test = scaler2.transform(pd.DataFrame(y_test_raw))"
   ]
  },
  {
   "cell_type": "code",
   "execution_count": 239,
   "metadata": {},
   "outputs": [],
   "source": [
    "# Convert to 2D PyTorch tensors\n",
    "X_train = torch.tensor(X_train.to_numpy(), dtype=torch.float32)\n",
    "y_train = torch.tensor(y_train_raw.to_numpy(), dtype=torch.float32).reshape(-1, 1)\n",
    "X_test = torch.tensor(X_test.to_numpy(), dtype=torch.float32)\n",
    "y_test = torch.tensor(y_test_raw.to_numpy(), dtype=torch.float32).reshape(-1, 1)"
   ]
  },
  {
   "cell_type": "code",
   "execution_count": 244,
   "metadata": {},
   "outputs": [],
   "source": [
    "# Define the model\n",
    "model = nn.Sequential(\n",
    "    nn.Linear(5, 24), # 7 input variables\n",
    "    nn.ReLU(),\n",
    "    nn.Linear(24, 12),\n",
    "    nn.ReLU(),\n",
    "    nn.Linear(12, 6),\n",
    "    nn.ReLU(),\n",
    "    # nn.ReLU(),\n",
    "    #nn.Linear(12, 6),\n",
    "    #nn.ReLU(),\n",
    "    nn.Linear(6, 1) # 1 output (regression)\n",
    ")\n",
    "\n",
    "# loss function and optimizer\n",
    "loss_fn = nn.MSELoss()  # mean square error\n",
    "optimizer = optim.Adam(model.parameters(), lr=0.0001)\n",
    "\n",
    "batch_size = 10  # size of each batch\n",
    "n_epochs = int(np.ceil(X_train.shape[0] / 10))\n",
    "batch_start = torch.arange(0, len(X_train), batch_size)\n",
    "\n",
    "# Hold the best model\n",
    "best_mse = np.inf   # init to infinity\n",
    "best_weights = None\n",
    "history = []"
   ]
  },
  {
   "cell_type": "code",
   "execution_count": 245,
   "metadata": {},
   "outputs": [
    {
     "data": {
      "text/plain": [
       "23"
      ]
     },
     "execution_count": 245,
     "metadata": {},
     "output_type": "execute_result"
    }
   ],
   "source": [
    "n_epochs"
   ]
  },
  {
   "cell_type": "code",
   "execution_count": 246,
   "metadata": {},
   "outputs": [],
   "source": [
    "# Train model\n",
    "for epoch in range(n_epochs):\n",
    "    model.train()\n",
    "    # This next part is just for showing a progress meter; not super important\n",
    "    with tqdm.tqdm(batch_start, unit=\"batch\", mininterval=0, disable=True) as bar:\n",
    "        bar.set_description(f\"Epoch {epoch}\")\n",
    "        for start in bar:\n",
    "            # take a batch\n",
    "            X_batch = X_train[start:start+batch_size]\n",
    "            y_batch = y_train[start:start+batch_size]\n",
    "            # forward pass\n",
    "            y_pred = model(X_batch)\n",
    "            loss = loss_fn(y_pred, y_batch)\n",
    "            # backward pass\n",
    "            optimizer.zero_grad()\n",
    "            loss.backward()\n",
    "            # update weights\n",
    "            optimizer.step()\n",
    "            # print progress\n",
    "            bar.set_postfix(mse=float(loss))\n",
    "    # evaluate accuracy at end of each epoch\n",
    "    model.eval()\n",
    "    y_pred = model(X_test)\n",
    "    mse = loss_fn(y_pred, y_test)\n",
    "    mse = float(mse)\n",
    "    history.append(mse)\n",
    "    if mse < best_mse:\n",
    "        best_mse = mse\n",
    "        best_weights = copy.deepcopy(model.state_dict())"
   ]
  },
  {
   "cell_type": "code",
   "execution_count": 247,
   "metadata": {},
   "outputs": [
    {
     "name": "stdout",
     "output_type": "stream",
     "text": [
      "MSE: 4.2684177969931625e-06\n",
      "RMSE: 0.0020660149556557335\n"
     ]
    },
    {
     "data": {
      "image/png": "[encoded data removed]",
      "text/plain": [
       "<Figure size 640x480 with 1 Axes>"
      ]
     },
     "metadata": {},
     "output_type": "display_data"
    },
    {
     "data": {
      "text/plain": [
       "Sequential(\n",
       "  (0): Linear(in_features=5, out_features=24, bias=True)\n",
       "  (1): ReLU()\n",
       "  (2): Linear(in_features=24, out_features=12, bias=True)\n",
       "  (3): ReLU()\n",
       "  (4): Linear(in_features=12, out_features=6, bias=True)\n",
       "  (5): ReLU()\n",
       "  (6): Linear(in_features=6, out_features=1, bias=True)\n",
       ")"
      ]
     },
     "execution_count": 247,
     "metadata": {},
     "output_type": "execute_result"
    }
   ],
   "source": [
    "# restore model and return best accuracy\n",
    "model.load_state_dict(best_weights)\n",
    "print(\"MSE:\", best_mse)\n",
    "print(\"RMSE:\", np.sqrt(best_mse))\n",
    "plt.plot(history)\n",
    "plt.show()\n",
    "\n",
    "model.eval()\n",
    "# with torch.no_grad():\n",
    "#     # Test out inference with 5 samples from the original test set\n",
    "#     for i in range(5):\n",
    "#         X_sample = X_test_raw[i: i+1]\n",
    "#         X_sample = scaler.transform(X_sample)\n",
    "#         X_sample = torch.tensor(X_sample, dtype=torch.float32)\n",
    "#         y_pred = model(X_sample)\n",
    "#         print(f\"{X_test_raw[i]} -> {y_pred[0].numpy()} (expected {y_test[i].numpy()})\")"
   ]
  },
  {
   "cell_type": "code",
   "execution_count": 249,
   "metadata": {},
   "outputs": [],
   "source": [
    "#test_scaled = scaler.transform(X_test_raw)\n",
    "y_pred = model(X_test)"
   ]
  },
  {
   "cell_type": "code",
   "execution_count": 257,
   "metadata": {},
   "outputs": [
    {
     "data": {
      "text/plain": [
       "<matplotlib.collections.PathCollection at 0x136d37390>"
      ]
     },
     "execution_count": 257,
     "metadata": {},
     "output_type": "execute_result"
    },
    {
     "data": {
      "image/png": "[encoded data removed]",
      "text/plain": [
       "<Figure size 640x480 with 1 Axes>"
      ]
     },
     "metadata": {},
     "output_type": "display_data"
    }
   ],
   "source": [
    "plt.scatter(y_pred.detach().numpy(), y_test.detach().numpy())"
   ]
  },
  {
   "cell_type": "code",
   "execution_count": null,
   "metadata": {},
   "outputs": [],
   "source": [
    "def score_trained_model(params, args):\n",
    "    # Get the model from the fixed args.\n",
    "    model = args[0]\n",
    "\n",
    "    # Run the model on the params, return the output.\n",
    "    return model_predict(model, params)"
   ]
  },
  {
   "cell_type": "code",
   "execution_count": null,
   "metadata": {},
   "outputs": [],
   "source": [
    "# Nelder-Mead is my go-to to start with.\n",
    "# But it doesn't take advantage of the gradient.\n",
    "# Something that does, e.g. BGFS, may perform better for your case.\n",
    "method = 'Nelder-Mead'\n",
    "\n",
    "# All zeros is fine, but improving this initial guess can help.\n",
    "guess_params = [0]*4\n",
    "\n",
    "# Given a trained model, optimize the inputs to minimize the output.\n",
    "optim_params = scipy.optimize.minimize(\n",
    "    score_trained_model,\n",
    "    guess_params,\n",
    "    args=(trained_model,),\n",
    "    method=method,\n",
    ")"
   ]
  },
  {
   "cell_type": "code",
   "execution_count": 263,
   "metadata": {},
   "outputs": [],
   "source": [
    "from sklearn.ensemble import RandomForestRegressor\n",
    "clf = RandomForestRegressor()\n",
    "clf.fit(X_train.detach().numpy(), y_train.detach().numpy().ravel())\n",
    "pred = clf.predict(X_test)"
   ]
  },
  {
   "cell_type": "code",
   "execution_count": 264,
   "metadata": {},
   "outputs": [
    {
     "data": {
      "text/plain": [
       "<matplotlib.collections.PathCollection at 0x1377c6b10>"
      ]
     },
     "execution_count": 264,
     "metadata": {},
     "output_type": "execute_result"
    },
    {
     "data": {
      "image/png": "[encoded data removed]",
      "text/plain": [
       "<Figure size 640x480 with 1 Axes>"
      ]
     },
     "metadata": {},
     "output_type": "display_data"
    }
   ],
   "source": [
    "plt.scatter(y_test.detach().numpy(), pred)"
   ]
  },
  {
   "cell_type": "code",
   "execution_count": null,
   "metadata": {},
   "outputs": [],
   "source": []
  }
 ],
 "metadata": {
  "kernelspec": {
   "display_name": "pytorch_env",
   "language": "python",
   "name": "python3"
  },
  "language_info": {
   "codemirror_mode": {
    "name": "ipython",
    "version": 3
   },
   "file_extension": ".py",
   "mimetype": "text/x-python",
   "name": "python",
   "nbconvert_exporter": "python",
   "pygments_lexer": "ipython3",
   "version": "3.11.6"
  },
  "orig_nbformat": 4,
  "vscode": {
   "interpreter": {
    "hash": "e8d4b76bf36a3b7f9141fb8d2af17f344d315cd075e70bee8bce85b39a046109"
   }
  }
 },
 "nbformat": 4,
 "nbformat_minor": 2
}
