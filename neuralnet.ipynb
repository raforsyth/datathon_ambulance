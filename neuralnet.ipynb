{
 "cells": [
  {
   "cell_type": "code",
   "execution_count": 8,
   "metadata": {},
   "outputs": [],
   "source": [
    "import os\n",
    "import copy\n",
    "import matplotlib.pyplot as plt\n",
    "import numpy as np\n",
    "import pandas as pd\n",
    "import torch\n",
    "import torch.nn as nn\n",
    "import torch.optim as optim\n",
    "import tqdm\n",
    "from sklearn.model_selection import train_test_split\n",
    "from sklearn.datasets import fetch_california_housing\n",
    "from sklearn.preprocessing import StandardScaler"
   ]
  },
  {
   "cell_type": "code",
   "execution_count": 13,
   "metadata": {},
   "outputs": [
    {
     "name": "stdout",
     "output_type": "stream",
     "text": [
      "/Users/gautam/Downloads/KU_Leuven_Bioinformatics_Masters/datathon_ambulance/dataset_with_populations.csv\n"
     ]
    }
   ],
   "source": [
    "data_path = os.path.join(os.getcwd(), \"dataset_with_populations.csv\")\n",
    "print(data_path)"
   ]
  },
  {
   "cell_type": "code",
   "execution_count": 48,
   "metadata": {},
   "outputs": [],
   "source": [
    "# Read data\n",
    "data = pd.read_csv(data_path)\n",
    "#X, y = data.data, data.target\n",
    "data = data.iloc[:, 1:8]\n",
    "data = data.iloc[:, data.columns != 'municipality']\n",
    "#data\n",
    "\n",
    "X = data.drop(columns = ['postal_code', 'DOA_cardiac'])\n",
    "y = data['DOA_cardiac']"
   ]
  },
  {
   "cell_type": "code",
   "execution_count": 50,
   "metadata": {},
   "outputs": [],
   "source": [
    "# train-test split for model evaluation\n",
    "X_train_raw, X_test_raw, y_train, y_test = train_test_split(X, y, train_size=0.7, shuffle=True)\n",
    " \n",
    "# Standardizing data\n",
    "scaler = StandardScaler()\n",
    "scaler.fit(X_train_raw)\n",
    "X_train = scaler.transform(X_train_raw)\n",
    "X_test = scaler.transform(X_test_raw)"
   ]
  },
  {
   "cell_type": "code",
   "execution_count": 51,
   "metadata": {},
   "outputs": [],
   "source": [
    "# Convert to 2D PyTorch tensors\n",
    "X_train = torch.tensor(X_train, dtype=torch.float32)\n",
    "y_train = torch.tensor(y_train, dtype=torch.float32).reshape(-1, 1)\n",
    "X_test = torch.tensor(X_test, dtype=torch.float32)\n",
    "y_test = torch.tensor(y_test.to_numpy(), dtype=torch.float32).reshape(-1, 1)"
   ]
  },
  {
   "cell_type": "code",
   "execution_count": 57,
   "metadata": {},
   "outputs": [],
   "source": [
    "# Define the model\n",
    "model = nn.Sequential(\n",
    "    nn.Linear(4, 6), # 5 input variables\n",
    "    nn.ReLU(),\n",
    "    nn.Linear(6, 4),\n",
    "    nn.ReLU(),\n",
    "    nn.Linear(4, 1) # 1 output (regression)\n",
    ")\n",
    "\n",
    "# loss function and optimizer\n",
    "loss_fn = nn.MSELoss()  # mean square error\n",
    "optimizer = optim.Adam(model.parameters(), lr=0.0001)\n",
    "\n",
    "batch_size = 10  # size of each batch\n",
    "n_epochs = int(np.ceil(X_train.shape[0] / 10))\n",
    "batch_start = torch.arange(0, len(X_train), batch_size)\n",
    "\n",
    "# Hold the best model\n",
    "best_mse = np.inf   # init to infinity\n",
    "best_weights = None\n",
    "history = []"
   ]
  },
  {
   "cell_type": "code",
   "execution_count": 54,
   "metadata": {},
   "outputs": [
    {
     "data": {
      "text/plain": [
       "21"
      ]
     },
     "execution_count": 54,
     "metadata": {},
     "output_type": "execute_result"
    }
   ],
   "source": [
    "n_epochs"
   ]
  },
  {
   "cell_type": "code",
   "execution_count": 58,
   "metadata": {},
   "outputs": [],
   "source": [
    "# Train model\n",
    "for epoch in range(n_epochs):\n",
    "    model.train()\n",
    "    # This next part is just for showing a progress meter; not super important\n",
    "    with tqdm.tqdm(batch_start, unit=\"batch\", mininterval=0, disable=True) as bar:\n",
    "        bar.set_description(f\"Epoch {epoch}\")\n",
    "        for start in bar:\n",
    "            # take a batch\n",
    "            X_batch = X_train[start:start+batch_size]\n",
    "            y_batch = y_train[start:start+batch_size]\n",
    "            # forward pass\n",
    "            y_pred = model(X_batch)\n",
    "            loss = loss_fn(y_pred, y_batch)\n",
    "            # backward pass\n",
    "            optimizer.zero_grad()\n",
    "            loss.backward()\n",
    "            # update weights\n",
    "            optimizer.step()\n",
    "            # print progress\n",
    "            bar.set_postfix(mse=float(loss))\n",
    "    # evaluate accuracy at end of each epoch\n",
    "    model.eval()\n",
    "    y_pred = model(X_test)\n",
    "    mse = loss_fn(y_pred, y_test)\n",
    "    mse = float(mse)\n",
    "    history.append(mse)\n",
    "    if mse < best_mse:\n",
    "        best_mse = mse\n",
    "        best_weights = copy.deepcopy(model.state_dict())"
   ]
  },
  {
   "cell_type": "code",
   "execution_count": 65,
   "metadata": {},
   "outputs": [
    {
     "name": "stdout",
     "output_type": "stream",
     "text": [
      "MSE: 0.0027929062489420176\n",
      "RMSE: 0.05284795406581051\n"
     ]
    },
    {
     "data": {
      "image/png": "[encoded data removed]",
      "text/plain": [
       "<Figure size 640x480 with 1 Axes>"
      ]
     },
     "metadata": {},
     "output_type": "display_data"
    },
    {
     "data": {
      "text/plain": [
       "Sequential(\n",
       "  (0): Linear(in_features=4, out_features=6, bias=True)\n",
       "  (1): ReLU()\n",
       "  (2): Linear(in_features=6, out_features=4, bias=True)\n",
       "  (3): ReLU()\n",
       "  (4): Linear(in_features=4, out_features=1, bias=True)\n",
       ")"
      ]
     },
     "execution_count": 65,
     "metadata": {},
     "output_type": "execute_result"
    }
   ],
   "source": [
    "# restore model and return best accuracy\n",
    "model.load_state_dict(best_weights)\n",
    "print(\"MSE:\", best_mse)\n",
    "print(\"RMSE:\", np.sqrt(best_mse))\n",
    "plt.plot(history)\n",
    "plt.show()\n",
    "\n",
    "model.eval()\n",
    "# with torch.no_grad():\n",
    "#     # Test out inference with 5 samples from the original test set\n",
    "#     for i in range(5):\n",
    "#         X_sample = X_test_raw[i: i+1]\n",
    "#         X_sample = scaler.transform(X_sample)\n",
    "#         X_sample = torch.tensor(X_sample, dtype=torch.float32)\n",
    "#         y_pred = model(X_sample)\n",
    "#         print(f\"{X_test_raw[i]} -> {y_pred[0].numpy()} (expected {y_test[i].numpy()})\")"
   ]
  },
  {
   "cell_type": "code",
   "execution_count": 62,
   "metadata": {},
   "outputs": [
    {
     "data": {
      "text/plain": [
       "tensor([[0.0000],\n",
       "        [0.0000],\n",
       "        [0.0000],\n",
       "        [0.0357],\n",
       "        [0.0178],\n",
       "        [0.0000],\n",
       "        [0.0455],\n",
       "        [0.0000],\n",
       "        [0.0000],\n",
       "        [0.0435],\n",
       "        [0.0000],\n",
       "        [0.0000],\n",
       "        [0.0000],\n",
       "        [0.0132],\n",
       "        [0.0690],\n",
       "        [0.0000],\n",
       "        [0.0459],\n",
       "        [0.0305],\n",
       "        [0.0267],\n",
       "        [0.0072],\n",
       "        [0.0304],\n",
       "        [0.0292],\n",
       "        [0.0000],\n",
       "        [0.0000],\n",
       "        [0.0000],\n",
       "        [0.0000],\n",
       "        [0.0423],\n",
       "        [0.0000],\n",
       "        [0.0000],\n",
       "        [0.0000],\n",
       "        [0.0000],\n",
       "        [0.0184],\n",
       "        [0.0000],\n",
       "        [0.0000],\n",
       "        [0.0377],\n",
       "        [0.0000],\n",
       "        [0.0346],\n",
       "        [0.0000],\n",
       "        [0.0667],\n",
       "        [0.0186],\n",
       "        [0.0625],\n",
       "        [0.0109],\n",
       "        [0.0000],\n",
       "        [0.0000],\n",
       "        [0.0000],\n",
       "        [0.0421],\n",
       "        [0.0000],\n",
       "        [0.0248],\n",
       "        [0.0000],\n",
       "        [0.0000],\n",
       "        [0.0135],\n",
       "        [0.0195],\n",
       "        [0.0000],\n",
       "        [0.0000],\n",
       "        [0.0303],\n",
       "        [0.0000],\n",
       "        [0.1029],\n",
       "        [0.0000],\n",
       "        [0.0370],\n",
       "        [0.0189],\n",
       "        [0.0000],\n",
       "        [0.0000],\n",
       "        [0.0000],\n",
       "        [0.0556],\n",
       "        [0.0397],\n",
       "        [0.0000],\n",
       "        [0.0244],\n",
       "        [0.1667],\n",
       "        [0.0588],\n",
       "        [0.0000],\n",
       "        [0.0000],\n",
       "        [0.0000],\n",
       "        [0.0441],\n",
       "        [0.0000],\n",
       "        [0.0222],\n",
       "        [0.0000],\n",
       "        [0.0714],\n",
       "        [0.0000],\n",
       "        [0.0652],\n",
       "        [0.0149],\n",
       "        [0.0000],\n",
       "        [0.0200],\n",
       "        [0.0000],\n",
       "        [0.0081],\n",
       "        [0.0000],\n",
       "        [0.0136],\n",
       "        [0.0402],\n",
       "        [0.0000],\n",
       "        [0.0155],\n",
       "        [0.0377],\n",
       "        [0.0000],\n",
       "        [0.0125],\n",
       "        [0.0146],\n",
       "        [0.0000],\n",
       "        [0.0000],\n",
       "        [0.0000],\n",
       "        [0.0000],\n",
       "        [0.0000],\n",
       "        [0.0184],\n",
       "        [0.0000],\n",
       "        [0.0000],\n",
       "        [0.0000],\n",
       "        [0.0000],\n",
       "        [0.0000],\n",
       "        [0.0000],\n",
       "        [0.0169],\n",
       "        [0.1429],\n",
       "        [0.0000],\n",
       "        [0.0000],\n",
       "        [0.0000],\n",
       "        [0.0000],\n",
       "        [0.0909],\n",
       "        [0.0000],\n",
       "        [0.0378],\n",
       "        [0.0335],\n",
       "        [0.0184],\n",
       "        [0.0357],\n",
       "        [0.0219],\n",
       "        [0.0000],\n",
       "        [0.0800],\n",
       "        [0.0000],\n",
       "        [0.0326],\n",
       "        [0.0222],\n",
       "        [0.0000],\n",
       "        [0.0000],\n",
       "        [0.0268],\n",
       "        [0.0000],\n",
       "        [0.0000],\n",
       "        [0.0000],\n",
       "        [0.0667],\n",
       "        [0.0000],\n",
       "        [0.0300],\n",
       "        [0.0000],\n",
       "        [0.0504],\n",
       "        [0.0000],\n",
       "        [0.0360],\n",
       "        [0.0000],\n",
       "        [0.0217],\n",
       "        [0.0127],\n",
       "        [0.0000],\n",
       "        [0.0327],\n",
       "        [0.0109],\n",
       "        [0.0144],\n",
       "        [0.0000],\n",
       "        [0.0000],\n",
       "        [0.0000],\n",
       "        [0.0339],\n",
       "        [0.0000],\n",
       "        [0.0377],\n",
       "        [0.0370],\n",
       "        [0.1081],\n",
       "        [0.0000],\n",
       "        [0.0180],\n",
       "        [0.0115],\n",
       "        [0.0196],\n",
       "        [0.0000],\n",
       "        [0.0000],\n",
       "        [0.0365],\n",
       "        [0.0347],\n",
       "        [0.0588],\n",
       "        [0.0000],\n",
       "        [0.0000],\n",
       "        [0.0000],\n",
       "        [0.0192],\n",
       "        [0.0199],\n",
       "        [0.0151],\n",
       "        [0.0144],\n",
       "        [0.3333],\n",
       "        [0.0000],\n",
       "        [0.0000],\n",
       "        [0.0000],\n",
       "        [0.0000],\n",
       "        [0.0196],\n",
       "        [0.0157],\n",
       "        [0.0533],\n",
       "        [0.0459],\n",
       "        [0.0000],\n",
       "        [0.0000],\n",
       "        [0.0256],\n",
       "        [0.0000],\n",
       "        [0.0180],\n",
       "        [0.0127],\n",
       "        [0.0213],\n",
       "        [0.0625],\n",
       "        [0.0000],\n",
       "        [0.0000],\n",
       "        [0.0000],\n",
       "        [0.0000],\n",
       "        [0.0000],\n",
       "        [0.0000],\n",
       "        [0.0149],\n",
       "        [0.0000],\n",
       "        [0.0938],\n",
       "        [0.0225],\n",
       "        [0.0000],\n",
       "        [0.0151],\n",
       "        [0.0162],\n",
       "        [0.0140],\n",
       "        [0.0000],\n",
       "        [0.0148],\n",
       "        [0.0370]])"
      ]
     },
     "execution_count": 62,
     "metadata": {},
     "output_type": "execute_result"
    }
   ],
   "source": [
    "y_train"
   ]
  },
  {
   "cell_type": "code",
   "execution_count": null,
   "metadata": {},
   "outputs": [],
   "source": [
    "def score_trained_model(params, args):\n",
    "    # Get the model from the fixed args.\n",
    "    model = args[0]\n",
    "\n",
    "    # Run the model on the params, return the output.\n",
    "    return model_predict(model, params)"
   ]
  },
  {
   "cell_type": "code",
   "execution_count": null,
   "metadata": {},
   "outputs": [],
   "source": [
    "# Nelder-Mead is my go-to to start with.\n",
    "# But it doesn't take advantage of the gradient.\n",
    "# Something that does, e.g. BGFS, may perform better for your case.\n",
    "method = 'Nelder-Mead'\n",
    "\n",
    "# All zeros is fine, but improving this initial guess can help.\n",
    "guess_params = [0]*4\n",
    "\n",
    "# Given a trained model, optimize the inputs to minimize the output.\n",
    "optim_params = scipy.optimize.minimize(\n",
    "    score_trained_model,\n",
    "    guess_params,\n",
    "    args=(trained_model,),\n",
    "    method=method,\n",
    ")"
   ]
  }
 ],
 "metadata": {
  "kernelspec": {
   "display_name": "pytorch_env",
   "language": "python",
   "name": "python3"
  },
  "language_info": {
   "codemirror_mode": {
    "name": "ipython",
    "version": 3
   },
   "file_extension": ".py",
   "mimetype": "text/x-python",
   "name": "python",
   "nbconvert_exporter": "python",
   "pygments_lexer": "ipython3",
   "version": "3.11.6"
  },
  "orig_nbformat": 4,
  "vscode": {
   "interpreter": {
    "hash": "e8d4b76bf36a3b7f9141fb8d2af17f344d315cd075e70bee8bce85b39a046109"
   }
  }
 },
 "nbformat": 4,
 "nbformat_minor": 2
}
